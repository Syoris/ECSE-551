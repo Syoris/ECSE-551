{
  "cells": [
    {
      "cell_type": "markdown",
      "metadata": {
        "id": "eBnO8yDTHMRc"
      },
      "source": [
        "# **PyTorch**"
      ]
    },
    {
      "cell_type": "markdown",
      "metadata": {
        "id": "ppzupAZDHaTp"
      },
      "source": [
        "* PyTorch is the premier open-source deep learning framework developed and maintained by Facebook, based on Torch which is an open-source project for deep learning written in C and generally used via the Lua interface.\n",
        "\n",
        "* PyTorch is a mathematical library that allows you to perform efficient computation and automatic differentiation on graph-based models."
      ]
    },
    {
      "cell_type": "markdown",
      "metadata": {
        "id": "wB68veBGIz8i"
      },
      "source": [
        "## Installing PyTorch\n",
        "\n",
        "https://pytorch.org/get-started/locally/\n"
      ]
    },
    {
      "cell_type": "code",
      "execution_count": 1,
      "metadata": {
        "id": "5-R13kqYHTRa"
      },
      "outputs": [
        {
          "name": "stdout",
          "output_type": "stream",
          "text": [
            "2.1.0\n"
          ]
        }
      ],
      "source": [
        "import torch\n",
        "print(torch.__version__)"
      ]
    },
    {
      "cell_type": "markdown",
      "metadata": {
        "id": "17YXD-7UNEio"
      },
      "source": [
        "## PyTorch tensors\n",
        "\n",
        "Whereas `numpy` used `np.array` as the basic data structure, in `PyTorch` we will use the similar `torch.Tensor` which you can think of in the same way. The big difference is that `torch.Tensor` can also be moved to the GPU, where they use a library called `CUDA` under the hood to do calculations"
      ]
    },
    {
      "cell_type": "code",
      "execution_count": 2,
      "metadata": {
        "id": "BUvUjxTBB_6Z"
      },
      "outputs": [
        {
          "name": "stdout",
          "output_type": "stream",
          "text": [
            "a=  tensor([1., 2., 3.])\n",
            "c=  tensor([1, 2, 3], dtype=torch.int32)\n",
            "w = tensor([[ 1.4185, -0.5875, -1.7996],\n",
            "        [ 0.3909,  2.4298, -1.1351],\n",
            "        [-0.9292, -1.2313,  0.7534]])\n",
            "b = tensor([[4.],\n",
            "        [5.],\n",
            "        [6.],\n",
            "        [4.],\n",
            "        [7.],\n",
            "        [9.]])\n"
          ]
        }
      ],
      "source": [
        "a = torch.Tensor([1,2,3])\n",
        "c = torch.tensor([1,2,3],dtype=torch.int32)\n",
        "W = torch.randn(3,3)\n",
        "b = torch.Tensor(([4,5,6],[4,7,9])).view(6,1) #### changing the size in pytorch\n",
        "print('a= ',  a)\n",
        "print('c= ',  c)\n",
        "print('w =' , W)\n",
        "print('b =',b)"
      ]
    },
    {
      "cell_type": "code",
      "execution_count": 3,
      "metadata": {
        "id": "UFn0Baw5Osq6"
      },
      "outputs": [
        {
          "name": "stdout",
          "output_type": "stream",
          "text": [
            "cpu\n"
          ]
        }
      ],
      "source": [
        "device = torch.device('cuda' if torch.cuda.is_available() else 'cpu')\n",
        "a = a.to(device)\n",
        "b = b.to(device)\n",
        "c = torch.ones(3, device=device)\n",
        "d = a + b + c\n",
        "print(d.device)"
      ]
    },
    {
      "cell_type": "code",
      "execution_count": 4,
      "metadata": {
        "id": "XpjwFvcR8Tv3"
      },
      "outputs": [
        {
          "data": {
            "text/plain": [
              "False"
            ]
          },
          "execution_count": 4,
          "metadata": {},
          "output_type": "execute_result"
        }
      ],
      "source": [
        "torch.cuda.is_available()"
      ]
    },
    {
      "cell_type": "markdown",
      "metadata": {
        "id": "N11qpQs1RwXa"
      },
      "source": [
        "## Iris Classification in PyTorch\n",
        "\n",
        "Let's load  `iris.txt` using the `sklearn` library, we can then preprocess the labels and convert them to one hot encoding"
      ]
    },
    {
      "cell_type": "code",
      "execution_count": 5,
      "metadata": {
        "id": "zdauIJ3LSXb_"
      },
      "outputs": [
        {
          "name": "stderr",
          "output_type": "stream",
          "text": [
            "c:\\Users\\charl\\anaconda3\\envs\\ecse-551\\Lib\\site-packages\\sklearn\\preprocessing\\_encoders.py:868: FutureWarning: `sparse` was renamed to `sparse_output` in version 1.2 and will be removed in 1.4. `sparse_output` is ignored unless you leave `sparse` to its default value.\n",
            "  warnings.warn(\n"
          ]
        }
      ],
      "source": [
        "import numpy as np\n",
        "from sklearn import datasets\n",
        "from sklearn.model_selection import train_test_split\n",
        "from sklearn.preprocessing import OneHotEncoder\n",
        "\n",
        "iris = datasets.load_iris()\n",
        "\n",
        "# separate into train/test using sklearn\n",
        "(x_train, x_test, y_train, y_test) = train_test_split(iris.data, iris.target)\n",
        "\n",
        "num_train = x_train.shape[0]\n",
        "num_test = x_test.shape[0]\n",
        "num_features = x_train.shape[1]\n",
        "num_classes = 3\n",
        "\n",
        "# lets also convert our targets y to a one-hot encoding\n",
        "# e.g. 1 -> [0, 1, 0], 2 -> [0, 0 ,1]\n",
        "one_hot = OneHotEncoder(sparse=False)\n",
        "y_train = one_hot.fit_transform(y_train.reshape(-1,1))\n",
        "y_test = one_hot.transform(y_test.reshape(-1,1))"
      ]
    },
    {
      "cell_type": "code",
      "execution_count": 6,
      "metadata": {
        "id": "UdQVc1iC6EBx"
      },
      "outputs": [
        {
          "data": {
            "text/plain": [
              "array([[1., 0., 0.],\n",
              "       [0., 1., 0.],\n",
              "       [0., 0., 1.],\n",
              "       [0., 0., 1.],\n",
              "       [1., 0., 0.],\n",
              "       [0., 0., 1.],\n",
              "       [0., 1., 0.],\n",
              "       [1., 0., 0.],\n",
              "       [0., 1., 0.],\n",
              "       [0., 1., 0.],\n",
              "       [0., 1., 0.],\n",
              "       [1., 0., 0.],\n",
              "       [0., 1., 0.],\n",
              "       [0., 1., 0.],\n",
              "       [0., 1., 0.],\n",
              "       [1., 0., 0.],\n",
              "       [1., 0., 0.],\n",
              "       [0., 0., 1.],\n",
              "       [0., 1., 0.],\n",
              "       [0., 0., 1.],\n",
              "       [1., 0., 0.],\n",
              "       [0., 1., 0.],\n",
              "       [0., 1., 0.],\n",
              "       [1., 0., 0.],\n",
              "       [1., 0., 0.],\n",
              "       [0., 0., 1.],\n",
              "       [1., 0., 0.],\n",
              "       [1., 0., 0.],\n",
              "       [1., 0., 0.],\n",
              "       [0., 1., 0.],\n",
              "       [0., 0., 1.],\n",
              "       [1., 0., 0.],\n",
              "       [0., 1., 0.],\n",
              "       [0., 1., 0.],\n",
              "       [1., 0., 0.],\n",
              "       [0., 0., 1.],\n",
              "       [0., 0., 1.],\n",
              "       [0., 1., 0.],\n",
              "       [0., 0., 1.],\n",
              "       [1., 0., 0.],\n",
              "       [0., 1., 0.],\n",
              "       [0., 1., 0.],\n",
              "       [0., 0., 1.],\n",
              "       [0., 1., 0.],\n",
              "       [0., 0., 1.],\n",
              "       [0., 0., 1.],\n",
              "       [1., 0., 0.],\n",
              "       [1., 0., 0.],\n",
              "       [1., 0., 0.],\n",
              "       [0., 1., 0.],\n",
              "       [0., 0., 1.],\n",
              "       [1., 0., 0.],\n",
              "       [0., 1., 0.],\n",
              "       [0., 0., 1.],\n",
              "       [1., 0., 0.],\n",
              "       [1., 0., 0.],\n",
              "       [0., 0., 1.],\n",
              "       [0., 0., 1.],\n",
              "       [0., 1., 0.],\n",
              "       [0., 0., 1.],\n",
              "       [1., 0., 0.],\n",
              "       [0., 1., 0.],\n",
              "       [1., 0., 0.],\n",
              "       [0., 1., 0.],\n",
              "       [1., 0., 0.],\n",
              "       [0., 0., 1.],\n",
              "       [0., 1., 0.],\n",
              "       [0., 0., 1.],\n",
              "       [0., 1., 0.],\n",
              "       [0., 0., 1.],\n",
              "       [1., 0., 0.],\n",
              "       [0., 0., 1.],\n",
              "       [0., 1., 0.],\n",
              "       [0., 1., 0.],\n",
              "       [0., 0., 1.],\n",
              "       [0., 0., 1.],\n",
              "       [1., 0., 0.],\n",
              "       [0., 1., 0.],\n",
              "       [0., 0., 1.],\n",
              "       [1., 0., 0.],\n",
              "       [0., 1., 0.],\n",
              "       [0., 0., 1.],\n",
              "       [0., 0., 1.],\n",
              "       [0., 0., 1.],\n",
              "       [0., 0., 1.],\n",
              "       [1., 0., 0.],\n",
              "       [1., 0., 0.],\n",
              "       [0., 1., 0.],\n",
              "       [0., 0., 1.],\n",
              "       [0., 0., 1.],\n",
              "       [0., 1., 0.],\n",
              "       [1., 0., 0.],\n",
              "       [0., 0., 1.],\n",
              "       [0., 1., 0.],\n",
              "       [0., 0., 1.],\n",
              "       [0., 1., 0.],\n",
              "       [0., 0., 1.],\n",
              "       [0., 1., 0.],\n",
              "       [0., 0., 1.],\n",
              "       [0., 1., 0.],\n",
              "       [1., 0., 0.],\n",
              "       [0., 1., 0.],\n",
              "       [0., 0., 1.],\n",
              "       [0., 0., 1.],\n",
              "       [0., 1., 0.],\n",
              "       [0., 1., 0.],\n",
              "       [0., 1., 0.],\n",
              "       [1., 0., 0.],\n",
              "       [0., 1., 0.],\n",
              "       [1., 0., 0.],\n",
              "       [0., 1., 0.],\n",
              "       [0., 0., 1.]])"
            ]
          },
          "execution_count": 6,
          "metadata": {},
          "output_type": "execute_result"
        }
      ],
      "source": [
        "y_train"
      ]
    },
    {
      "cell_type": "markdown",
      "metadata": {
        "id": "bLaTH7C8Ubpp"
      },
      "source": [
        "Finally, we'll convert our data to `torch.Tensor` representations, and because we can only have operations between arguments of the same type, lets make everything a `float` as well"
      ]
    },
    {
      "cell_type": "code",
      "execution_count": 7,
      "metadata": {
        "id": "lfGN51DBUer_"
      },
      "outputs": [],
      "source": [
        "x_train = torch.from_numpy(x_train).float().to(device)\n",
        "x_test = torch.from_numpy(x_test).float().to(device)\n",
        "y_train = torch.from_numpy(y_train).float().to(device)\n",
        "y_test = torch.from_numpy(y_test).float().to(device)"
      ]
    },
    {
      "cell_type": "markdown",
      "metadata": {
        "id": "9bL95vJ_UyYv"
      },
      "source": [
        "## PyTorch Autograd\n",
        "\n",
        "So far when doing gradient descent for various ML models we would compute the gradients manually to do the update. While this would be possible for very simple neural networks with no hidden layer, it would become very complicated and bothersome to do backpropagation for complex, deep neural networks.\n",
        "\n",
        "To this end, we'd like to just build our neural network and have our library calculate the gradients necessary for backpropogation itself! `PyTorch` does this with `autograd` which keeps track of all your operations and the gradients associated with them.\n",
        "\n",
        "To do this, we set `requires_grad = True` for the tensors we want to keep track of, and call `loss.backward()` to populate the `.grad` part of each tensor. In our case, this will be the `weights`.\n",
        "\n",
        "We are going to show it in a very simple network for iris classification with MSE error."
      ]
    },
    {
      "cell_type": "code",
      "execution_count": 8,
      "metadata": {
        "id": "MpJrdVGgVJ8n"
      },
      "outputs": [],
      "source": [
        "### We initialize weights and parameters\n",
        "torch.manual_seed(0)\n",
        "torch.cuda.manual_seed(0)\n",
        "# set requires_grad = True to track the gradients\n",
        "weights = torch.randn(num_features, num_classes, device=device, requires_grad=True)\n",
        "\n",
        "learning_rate = 2e-5\n",
        "num_epochs = 5000\n",
        "\n",
        "losses = []\n",
        "\n",
        "### We now perform Gradient Descent\n",
        "\n",
        "for epoch in range(num_epochs):\n",
        "\n",
        "    # QUESTION : compute the predictions and MSE loss\n",
        "    # (Hint : torch.mm(x,y) is matrix multiplication in PyTorch)\n",
        "    preds = torch.mm(x_train, weights) # predictions\n",
        "    loss = (preds - y_train).pow(2).mean() # MSE loss\n",
        "    losses.append(loss.item())\n",
        "\n",
        "    ### AUTO gradients computation\n",
        "    loss.backward()\n",
        "\n",
        "    ### Update the weights without changing the gradients\n",
        "    with torch.no_grad():\n",
        "      # access the gradient with weights.grad\n",
        "      weights -= learning_rate * weights.grad\n",
        "\n",
        "      # make sure to reset the gradient to 0 for our next calculation\n",
        "      weights.grad.zero_()"
      ]
    },
    {
      "cell_type": "code",
      "execution_count": 9,
      "metadata": {
        "id": "bcfhCxqa_hzB"
      },
      "outputs": [
        {
          "data": {
            "text/plain": [
              "1.0145955085754395"
            ]
          },
          "execution_count": 9,
          "metadata": {},
          "output_type": "execute_result"
        }
      ],
      "source": [
        "loss.item()"
      ]
    },
    {
      "cell_type": "code",
      "execution_count": 10,
      "metadata": {
        "id": "MomEjLuiYQDo"
      },
      "outputs": [
        {
          "data": {
            "text/plain": [
              "Text(0, 0.5, 'mean squared loss')"
            ]
          },
          "execution_count": 10,
          "metadata": {},
          "output_type": "execute_result"
        },
        {
          "data": {
            "image/png": "[encoded data removed]",
            "text/plain": [
              "<Figure size 640x480 with 1 Axes>"
            ]
          },
          "metadata": {},
          "output_type": "display_data"
        }
      ],
      "source": [
        "import matplotlib.pyplot as plt\n",
        "plt.plot(range(num_epochs), losses)\n",
        "plt.xlabel('epochs')\n",
        "plt.ylabel('mean squared loss')"
      ]
    },
    {
      "cell_type": "markdown",
      "metadata": {
        "id": "-kLFCFoyhXcu"
      },
      "source": [
        "## PyTorch Optimizers\n",
        "\n",
        "We can make our code even simpler by letting the library do the gradient updates as well! Using `torch.optim` we can choose from a variety of optimization strategies, and in this case, we can use regular `SGD`. We have to specify all the parameters we wish to optimize, so in this case it is just `weights`"
      ]
    },
    {
      "cell_type": "code",
      "execution_count": 11,
      "metadata": {
        "id": "GgLfXUSdhqpN"
      },
      "outputs": [
        {
          "data": {
            "text/plain": [
              "Text(0, 0.5, 'mean squared loss')"
            ]
          },
          "execution_count": 11,
          "metadata": {},
          "output_type": "execute_result"
        },
        {
          "data": {
            "image/png": "[encoded data removed]",
            "text/plain": [
              "<Figure size 640x480 with 1 Axes>"
            ]
          },
          "metadata": {},
          "output_type": "display_data"
        }
      ],
      "source": [
        "torch.manual_seed(0)\n",
        "torch.cuda.manual_seed(0)\n",
        "weights = torch.randn(num_features, num_classes, device=device, requires_grad=True)\n",
        "\n",
        "learning_rate = 2e-5\n",
        "num_epochs = 500\n",
        "losses = []\n",
        "\n",
        "# set the optimizer\n",
        "optimizer = torch.optim.SGD([weights], lr=learning_rate)\n",
        "\n",
        "for epoch in range(num_epochs):\n",
        "\n",
        "    preds = torch.mm(x_train, weights)\n",
        "    loss = (preds - y_train).pow(2).mean()\n",
        "    losses.append(loss.item())\n",
        "\n",
        "    # make sure to reset the gradients to 0 before calculation\n",
        "    optimizer.zero_grad()\n",
        "    loss.backward()\n",
        "    # update our parameter with SGD\n",
        "    optimizer.step()\n",
        "\n",
        "plt.plot(range(num_epochs), losses)\n",
        "plt.xlabel('epochs')\n",
        "plt.ylabel('mean squared loss')"
      ]
    },
    {
      "cell_type": "markdown",
      "metadata": {
        "id": "WUZQRVt4iUss"
      },
      "source": [
        "## PyTorch NN\n",
        "\n",
        "Now nearly everything is in place, except it would still be a bit of a hassle to explicitly write out all the weights, biases, and other parameters we want to optimize. This is especially true since there are a lot of very common neural network building blocks that we use all the time. The `torch.nn` part of the libary is exactly that! It gives us all the tools to write our models at a higher level, going over the small details\n",
        "\n",
        "Here, we will replace:\n",
        "- `weights` with `nn.Linear` layer.\n",
        "\n",
        "   nn. Linear(n,m) is a module that creates single layer feed forward network with n inputs and m output. Mathematically, this module is designed to calculate the linear equation Ax = b\n",
        "- our optimizer's listing of parameters with `model.parameters()`\n",
        "- our manual loss calculation with `nn.MSELoss`"
      ]
    },
    {
      "cell_type": "code",
      "execution_count": 12,
      "metadata": {
        "id": "YG3ECBX3i8wk"
      },
      "outputs": [
        {
          "data": {
            "text/plain": [
              "Text(0, 0.5, 'mean squared loss')"
            ]
          },
          "execution_count": 12,
          "metadata": {},
          "output_type": "execute_result"
        },
        {
          "data": {
            "image/png": "[encoded data removed]",
            "text/plain": [
              "<Figure size 640x480 with 1 Axes>"
            ]
          },
          "metadata": {},
          "output_type": "display_data"
        }
      ],
      "source": [
        "torch.manual_seed(0)\n",
        "torch.cuda.manual_seed(0)\n",
        "\n",
        "# define your model\n",
        "model = torch.nn.Linear(num_features, num_classes).to(device)\n",
        "# choose a loss function\n",
        "loss_fn = torch.nn.MSELoss()\n",
        "\n",
        "num_epochs = 5000\n",
        "learning_rate = 2e-5\n",
        "# automatically find all your model's parameters\n",
        "optimizer = torch.optim.SGD(model.parameters(), lr=learning_rate)\n",
        "\n",
        "losses = []\n",
        "\n",
        "for epoch in range(num_epochs):\n",
        "    preds = model(x_train)\n",
        "    loss = loss_fn(preds, y_train)\n",
        "\n",
        "    losses.append(loss.item())\n",
        "\n",
        "    optimizer.zero_grad()\n",
        "    loss.backward()\n",
        "    optimizer.step()\n",
        "\n",
        "\n",
        "plt.plot(range(num_epochs), losses)\n",
        "plt.xlabel('epochs')\n",
        "plt.ylabel('mean squared loss')"
      ]
    },
    {
      "cell_type": "markdown",
      "metadata": {
        "id": "cMSDZJxkjISF"
      },
      "source": [
        "There are other types of layers besides `nn.Linear`. For example, we can add a non-linear activation such as reLU with `nn.ReLU`, or add a convolution layer with `nn.Conv2d` (as we will see later today)"
      ]
    },
    {
      "cell_type": "markdown",
      "metadata": {
        "id": "GF2iWIRgjNj0"
      },
      "source": [
        "## PyTorch nn.Sequential\n",
        "Most of the time we want to build multi-layer neural networks. PyTorch lets us do that by using [nn.Sequential](https://pytorch.org/docs/stable/nn.html?#sequential), which wraps a sequence of layers together and turns them into one big model."
      ]
    },
    {
      "cell_type": "code",
      "execution_count": 13,
      "metadata": {
        "id": "D68ufmS9jLO8"
      },
      "outputs": [
        {
          "data": {
            "text/plain": [
              "Text(0, 0.5, 'mean squared loss')"
            ]
          },
          "execution_count": 13,
          "metadata": {},
          "output_type": "execute_result"
        },
        {
          "data": {
            "image/png": "[encoded data removed]",
            "text/plain": [
              "<Figure size 640x480 with 1 Axes>"
            ]
          },
          "metadata": {},
          "output_type": "display_data"
        }
      ],
      "source": [
        "torch.manual_seed(0)\n",
        "torch.cuda.manual_seed(0)\n",
        "\n",
        "\n",
        "model = torch.nn.Sequential(\n",
        "    torch.nn.Linear(num_features, 4),\n",
        "    torch.nn.Sigmoid(),\n",
        "    torch.nn.Linear(4, num_classes)\n",
        ").to(device)\n",
        "\n",
        "loss_fn = torch.nn.MSELoss()\n",
        "\n",
        "num_epochs = 2000\n",
        "learning_rate = 2e-3\n",
        "optimizer = torch.optim.SGD(model.parameters(), lr=learning_rate)\n",
        "\n",
        "losses = []\n",
        "\n",
        "for epoch in range(num_epochs):\n",
        "    preds = model(x_train)\n",
        "    loss = loss_fn(preds, y_train)\n",
        "\n",
        "    losses.append(loss.item())\n",
        "\n",
        "    optimizer.zero_grad()\n",
        "    loss.backward()\n",
        "    optimizer.step()\n",
        "\n",
        "\n",
        "plt.plot(range(num_epochs), losses)\n",
        "plt.xlabel('epochs')\n",
        "plt.ylabel('mean squared loss')"
      ]
    },
    {
      "cell_type": "markdown",
      "metadata": {
        "id": "YC0tfiTojxdE"
      },
      "source": [
        "## Challenge\n",
        "\n",
        "We're now doing really well on the `iris` dataset mainly because it is so simple and neural networks are so powerful! Let's work on something a bit harder, and try our hands on the sklearn Digits dataset. This dataset contains images of handwritten digits, similarly to the famous MNIST, but with smaller dimension and size (to simplify the code in the scope of this demo)\n",
        "\n",
        "There are 1797 images. The input images are handwritten digits (0 - 9) in a 8x8 pixel grayscale image. This means the input is a Tensor of size `1797 x 64` where each value is an \"intensity\" (how dark the pixel is) number between 0 and 255 (inclusive) . The output is the number that this handwritten image is showing, so between 0 and 9.\n",
        "\n",
        "We now try using neural networks coded in PyTorch to handle this classification task. The loss function we use is softmax cross entropy (look [here](https://pytorch.org/docs/stable/nn.html?#loss-functions)).\n",
        "The following code cell has an example of decently performing neural net. It is now your turn to play with the architecture and hyperparameters and see how it affects training score, test score, computation speed, etc. Try to improve the performances !\n",
        "\n",
        "You can play with :\n",
        "\n",
        "* number of layers\n",
        "* number of neurons per layers\n",
        "* device (cpu vs cuda, how does it impact speed ?)\n",
        "* adding non-linear layers between linear layers (e.g. ReLU, but there are others)\n",
        "* learning rate\n",
        "* number of epochs\n",
        "* loss function\n",
        "\n",
        "Note that the dataset has a small number of samples and we are not using convolution layers (which are more adapted to images and which we will study next week), so the performance will have some limitations."
      ]
    },
    {
      "cell_type": "code",
      "execution_count": 14,
      "metadata": {
        "id": "ZoELBKMtkDZ7"
      },
      "outputs": [
        {
          "name": "stderr",
          "output_type": "stream",
          "text": [
            "c:\\Users\\charl\\anaconda3\\envs\\ecse-551\\Lib\\site-packages\\torchvision\\io\\image.py:13: UserWarning: Failed to load image Python extension: '[WinError 127] The specified procedure could not be found'If you don't plan on using image functionality from `torchvision.io`, you can ignore this warning. Otherwise, there might be something wrong with your environment. Did you have `libjpeg` or `libpng` installed before building `torchvision` from source?\n",
            "  warn(\n"
          ]
        },
        {
          "ename": "KeyboardInterrupt",
          "evalue": "",
          "output_type": "error",
          "traceback": [
            "\u001b[1;31m---------------------------------------------------------------------------\u001b[0m",
            "\u001b[1;31mKeyboardInterrupt\u001b[0m                         Traceback (most recent call last)",
            "\u001b[1;32mc:\\Users\\charl\\Documents\\Git\\ECSE-551\\Tutorials\\Tutorial_6.ipynb Cell 26\u001b[0m line \u001b[0;36m5\n\u001b[0;32m     <a href='vscode-notebook-cell:/c%3A/Users/charl/Documents/Git/ECSE-551/Tutorials/Tutorial_6.ipynb#X34sZmlsZQ%3D%3D?line=54'>55</a>\u001b[0m     losses\u001b[39m.\u001b[39mappend(loss\u001b[39m.\u001b[39mitem())\n\u001b[0;32m     <a href='vscode-notebook-cell:/c%3A/Users/charl/Documents/Git/ECSE-551/Tutorials/Tutorial_6.ipynb#X34sZmlsZQ%3D%3D?line=56'>57</a>\u001b[0m     optimizer\u001b[39m.\u001b[39mzero_grad()\n\u001b[1;32m---> <a href='vscode-notebook-cell:/c%3A/Users/charl/Documents/Git/ECSE-551/Tutorials/Tutorial_6.ipynb#X34sZmlsZQ%3D%3D?line=57'>58</a>\u001b[0m     loss\u001b[39m.\u001b[39;49mbackward()\n\u001b[0;32m     <a href='vscode-notebook-cell:/c%3A/Users/charl/Documents/Git/ECSE-551/Tutorials/Tutorial_6.ipynb#X34sZmlsZQ%3D%3D?line=58'>59</a>\u001b[0m     optimizer\u001b[39m.\u001b[39mstep()\n\u001b[0;32m     <a href='vscode-notebook-cell:/c%3A/Users/charl/Documents/Git/ECSE-551/Tutorials/Tutorial_6.ipynb#X34sZmlsZQ%3D%3D?line=60'>61</a>\u001b[0m \u001b[39m### Results\u001b[39;00m\n",
            "File \u001b[1;32mc:\\Users\\charl\\anaconda3\\envs\\ecse-551\\Lib\\site-packages\\torch\\_tensor.py:492\u001b[0m, in \u001b[0;36mTensor.backward\u001b[1;34m(self, gradient, retain_graph, create_graph, inputs)\u001b[0m\n\u001b[0;32m    482\u001b[0m \u001b[39mif\u001b[39;00m has_torch_function_unary(\u001b[39mself\u001b[39m):\n\u001b[0;32m    483\u001b[0m     \u001b[39mreturn\u001b[39;00m handle_torch_function(\n\u001b[0;32m    484\u001b[0m         Tensor\u001b[39m.\u001b[39mbackward,\n\u001b[0;32m    485\u001b[0m         (\u001b[39mself\u001b[39m,),\n\u001b[1;32m   (...)\u001b[0m\n\u001b[0;32m    490\u001b[0m         inputs\u001b[39m=\u001b[39minputs,\n\u001b[0;32m    491\u001b[0m     )\n\u001b[1;32m--> 492\u001b[0m torch\u001b[39m.\u001b[39;49mautograd\u001b[39m.\u001b[39;49mbackward(\n\u001b[0;32m    493\u001b[0m     \u001b[39mself\u001b[39;49m, gradient, retain_graph, create_graph, inputs\u001b[39m=\u001b[39;49minputs\n\u001b[0;32m    494\u001b[0m )\n",
            "File \u001b[1;32mc:\\Users\\charl\\anaconda3\\envs\\ecse-551\\Lib\\site-packages\\torch\\autograd\\__init__.py:251\u001b[0m, in \u001b[0;36mbackward\u001b[1;34m(tensors, grad_tensors, retain_graph, create_graph, grad_variables, inputs)\u001b[0m\n\u001b[0;32m    246\u001b[0m     retain_graph \u001b[39m=\u001b[39m create_graph\n\u001b[0;32m    248\u001b[0m \u001b[39m# The reason we repeat the same comment below is that\u001b[39;00m\n\u001b[0;32m    249\u001b[0m \u001b[39m# some Python versions print out the first line of a multi-line function\u001b[39;00m\n\u001b[0;32m    250\u001b[0m \u001b[39m# calls in the traceback and some print out the last line\u001b[39;00m\n\u001b[1;32m--> 251\u001b[0m Variable\u001b[39m.\u001b[39;49m_execution_engine\u001b[39m.\u001b[39;49mrun_backward(  \u001b[39m# Calls into the C++ engine to run the backward pass\u001b[39;49;00m\n\u001b[0;32m    252\u001b[0m     tensors,\n\u001b[0;32m    253\u001b[0m     grad_tensors_,\n\u001b[0;32m    254\u001b[0m     retain_graph,\n\u001b[0;32m    255\u001b[0m     create_graph,\n\u001b[0;32m    256\u001b[0m     inputs,\n\u001b[0;32m    257\u001b[0m     allow_unreachable\u001b[39m=\u001b[39;49m\u001b[39mTrue\u001b[39;49;00m,\n\u001b[0;32m    258\u001b[0m     accumulate_grad\u001b[39m=\u001b[39;49m\u001b[39mTrue\u001b[39;49;00m,\n\u001b[0;32m    259\u001b[0m )\n",
            "\u001b[1;31mKeyboardInterrupt\u001b[0m: "
          ]
        }
      ],
      "source": [
        "# import torch\n",
        "# import torch.nn as nn\n",
        "# import torch.nn.functional as F\n",
        "# import torch.optim as optim\n",
        "# from torchvision import datasets, transforms\n",
        "\n",
        "# from sklearn import datasets\n",
        "# from sklearn.model_selection import train_test_split\n",
        "# from sklearn.preprocessing import OneHotEncoder\n",
        "\n",
        "# torch.manual_seed(0)\n",
        "# torch.cuda.manual_seed(0)\n",
        "# device = torch.device('cuda' if torch.cuda.is_available() else 'cpu')\n",
        "\n",
        "\n",
        "# ### Load Digits dataset\n",
        "\n",
        "# digits = datasets.load_digits()\n",
        "# (x_train, x_test, y_train, y_test) = train_test_split(digits.data, digits.target)\n",
        "# num_train = x_train.shape[0]\n",
        "# num_test = x_test.shape[0]\n",
        "# num_features = x_train.shape[1]\n",
        "# num_classes = 10\n",
        "# one_hot = OneHotEncoder(sparse=False) #n_values=num_classes,\n",
        "# x_train = torch.from_numpy(x_train).float().to(device)\n",
        "# x_test = torch.from_numpy(x_test).float().to(device)\n",
        "# y_train = torch.from_numpy(y_train).long().to(device)\n",
        "# y_test = torch.from_numpy(y_test).long().to(device)\n",
        "\n",
        "# ### Hyperparameters & architecture\n",
        "\n",
        "# model = nn.Sequential(\n",
        "#     nn.Linear(num_features, 200),\n",
        "#     nn.ReLU(),\n",
        "#     nn.Linear(200, 500),\n",
        "#     nn.Sigmoid(),\n",
        "#     nn.Linear(500, 500),\n",
        "#     nn.ReLU(),\n",
        "#     nn.Linear(500, num_classes),\n",
        "# ).to(device)\n",
        "\n",
        "# num_epochs = 10000\n",
        "# learning_rate = 2e-5\n",
        "# loss_fn = nn.CrossEntropyLoss()\n",
        "\n",
        "# ### Training\n",
        "\n",
        "# optimizer = torch.optim.SGD(model.parameters(), lr=learning_rate)\n",
        "# losses = []\n",
        "\n",
        "# for epoch in range(num_epochs):\n",
        "\n",
        "#     preds = model(x_train)\n",
        "#     loss = loss_fn(preds, y_train)\n",
        "#     losses.append(loss.item())\n",
        "\n",
        "#     optimizer.zero_grad()\n",
        "#     loss.backward()\n",
        "#     optimizer.step()\n",
        "\n",
        "# ### Results\n",
        "\n",
        "# plt.plot(range(num_epochs), losses)\n",
        "# plt.xlabel('epochs')\n",
        "# plt.ylabel('crossentropy loss')\n",
        "\n",
        "# preds_train = model(x_train)\n",
        "# acc = 0\n",
        "# for i in range(len(y_train)):\n",
        "#   if torch.argmax(preds_train[i]) == y_train[i]:\n",
        "#     acc += 1\n",
        "# print('train accuracy : {}'.format(acc / len(y_train)))\n",
        "\n",
        "# preds_test = model(x_test)\n",
        "# acc = 0\n",
        "# for i in range(len(y_test)):\n",
        "#   if torch.argmax(preds_test[i]) == y_test[i]:\n",
        "#     acc += 1\n",
        "# print('test accuracy : {}'.format(acc / len(y_test)))\n"
      ]
    },
    {
      "cell_type": "markdown",
      "metadata": {
        "id": "ZVU6nc9BkzSl"
      },
      "source": [
        "# **Convolutional Neural Networks**\n",
        "In the following you will see how to read the provided files for the mini-project 3.\n",
        "First you will see how to read each of the provided files. Then, you will see a more elegant way of using this data for training neural networks."
      ]
    },
    {
      "cell_type": "code",
      "execution_count": null,
      "metadata": {
        "id": "2jIN9cpOlFEk"
      },
      "outputs": [],
      "source": [
        "from google.colab import drive\n",
        "drive.mount('/content/gdrive' )"
      ]
    },
    {
      "cell_type": "code",
      "execution_count": null,
      "metadata": {
        "id": "BY61UQ5vlNbq"
      },
      "outputs": [],
      "source": [
        "%cd '/content/gdrive/My Drive/mini3/'"
      ]
    },
    {
      "cell_type": "code",
      "execution_count": null,
      "metadata": {
        "id": "cwpVdUVRlSK0"
      },
      "outputs": [],
      "source": [
        "import pickle\n",
        "import matplotlib.pyplot as plt\n",
        "import numpy as np\n",
        "from torchvision import transforms\n",
        "from torch.utils.data import Dataset\n",
        "from torch.utils.data import DataLoader\n",
        "from PIL import Image\n",
        "import torch"
      ]
    },
    {
      "cell_type": "code",
      "execution_count": 15,
      "metadata": {
        "colab": {
          "base_uri": "https://localhost:8080/",
          "height": 235
        },
        "id": "CMZfh3wNmfe0",
        "outputId": "d2d0003b-a13f-4005-f46d-e9795e4fe31a"
      },
      "outputs": [
        {
          "ename": "NameError",
          "evalue": "name 'pickle' is not defined",
          "output_type": "error",
          "traceback": [
            "\u001b[1;31m---------------------------------------------------------------------------\u001b[0m",
            "\u001b[1;31mNameError\u001b[0m                                 Traceback (most recent call last)",
            "\u001b[1;32mc:\\Users\\charl\\Documents\\Git\\ECSE-551\\Tutorials\\Tutorial_6.ipynb Cell 31\u001b[0m line \u001b[0;36m3\n\u001b[0;32m      <a href='vscode-notebook-cell:/c%3A/Users/charl/Documents/Git/ECSE-551/Tutorials/Tutorial_6.ipynb#X42sZmlsZQ%3D%3D?line=0'>1</a>\u001b[0m \u001b[39m# Read a pickle file and disply its samples\u001b[39;00m\n\u001b[0;32m      <a href='vscode-notebook-cell:/c%3A/Users/charl/Documents/Git/ECSE-551/Tutorials/Tutorial_6.ipynb#X42sZmlsZQ%3D%3D?line=1'>2</a>\u001b[0m \u001b[39m# Note that image data are stored as unit8 so each element is an integer value between 0 and 255\u001b[39;00m\n\u001b[1;32m----> <a href='vscode-notebook-cell:/c%3A/Users/charl/Documents/Git/ECSE-551/Tutorials/Tutorial_6.ipynb#X42sZmlsZQ%3D%3D?line=2'>3</a>\u001b[0m data \u001b[39m=\u001b[39m pickle\u001b[39m.\u001b[39mload( \u001b[39mopen\u001b[39m( \u001b[39m'\u001b[39m\u001b[39m./Train.pkl\u001b[39m\u001b[39m'\u001b[39m, \u001b[39m'\u001b[39m\u001b[39mrb\u001b[39m\u001b[39m'\u001b[39m ), encoding\u001b[39m=\u001b[39m\u001b[39m'\u001b[39m\u001b[39mbytes\u001b[39m\u001b[39m'\u001b[39m)\n\u001b[0;32m      <a href='vscode-notebook-cell:/c%3A/Users/charl/Documents/Git/ECSE-551/Tutorials/Tutorial_6.ipynb#X42sZmlsZQ%3D%3D?line=3'>4</a>\u001b[0m targets \u001b[39m=\u001b[39m np\u001b[39m.\u001b[39mgenfromtxt(\u001b[39m'\u001b[39m\u001b[39m./TrainLabels.csv\u001b[39m\u001b[39m'\u001b[39m, delimiter\u001b[39m=\u001b[39m\u001b[39m'\u001b[39m\u001b[39m,\u001b[39m\u001b[39m'\u001b[39m)\n\u001b[0;32m      <a href='vscode-notebook-cell:/c%3A/Users/charl/Documents/Git/ECSE-551/Tutorials/Tutorial_6.ipynb#X42sZmlsZQ%3D%3D?line=4'>5</a>\u001b[0m plt\u001b[39m.\u001b[39mimshow(data[\u001b[39m1234\u001b[39m,:,:],cmap\u001b[39m=\u001b[39m\u001b[39m'\u001b[39m\u001b[39mgray\u001b[39m\u001b[39m'\u001b[39m, vmin\u001b[39m=\u001b[39m\u001b[39m0\u001b[39m, vmax\u001b[39m=\u001b[39m\u001b[39m256\u001b[39m)\n",
            "\u001b[1;31mNameError\u001b[0m: name 'pickle' is not defined"
          ]
        }
      ],
      "source": [
        "# Read a pickle file and disply its samples\n",
        "# Note that image data are stored as unit8 so each element is an integer value between 0 and 255\n",
        "data = pickle.load( open( './Train.pkl', 'rb' ), encoding='bytes')\n",
        "targets = np.genfromtxt('./TrainLabels.csv', delimiter=',')\n",
        "plt.imshow(data[1234,:,:],cmap='gray', vmin=0, vmax=256)\n",
        "print(data.shape)"
      ]
    },
    {
      "cell_type": "markdown",
      "metadata": {
        "id": "7Em-uFGdmzGs"
      },
      "source": [
        "## Dataset class\n",
        "*Dataset* class and the *Dataloader* class in pytorch help us to feed our own training data into the network. Dataset class is used to provide an interface for accessing all the training or testing samples in your dataset. For your convinance, we provide you with a custom Dataset that reads the provided data including images (.pkl file) and labels (.csv file).\n",
        "\n",
        "## Dataloader class\n",
        "Although we can access all the training data using the Dataset class, for neural networks, we would need batching, shuffling, multiprocess data loading, etc. DataLoader class helps us to do this. The DataLoader class accepts a dataset and other parameters such as batch_size."
      ]
    },
    {
      "cell_type": "code",
      "execution_count": null,
      "metadata": {
        "id": "j0MUpn2VnElU"
      },
      "outputs": [],
      "source": [
        "# Transforms are common image transformations. They can be chained together using Compose.\n",
        "# Here we normalize images img=(img-0.5)/0.5\n",
        "img_transform = transforms.Compose([\n",
        "    transforms.ToTensor(),\n",
        "    transforms.Normalize([0.5], [0.5])\n",
        "])"
      ]
    },
    {
      "cell_type": "code",
      "execution_count": null,
      "metadata": {
        "id": "CY0SndE2qcmb"
      },
      "outputs": [],
      "source": [
        "# img_file: the pickle file containing the images\n",
        "# label_file: the .csv file containing the labels\n",
        "# transform: We use it for normalizing images (see above)\n",
        "# idx: This is a binary vector that is useful for creating training and validation set.\n",
        "# It return only samples where idx is True\n",
        "\n",
        "class MyDataset(Dataset):\n",
        "    def __init__(self, img_file, label_file, transform=None, idx = None):\n",
        "        self.data = pickle.load( open( img_file, 'rb' ), encoding='bytes')\n",
        "        self.targets = np.genfromtxt(label_file, delimiter=',', skip_header=1)[:,1:]\n",
        "        if idx is not None:\n",
        "          self.targets = self.targets[idx]\n",
        "          self.data = self.data[idx]\n",
        "        self.transform = transform\n",
        "\n",
        "    def __len__(self):\n",
        "        return len(self.targets)\n",
        "\n",
        "    def __getitem__(self, index):\n",
        "        img, target = self.data[index], int(self.targets[index])\n",
        "        img = Image.fromarray(img.astype('uint8'), mode='L')\n",
        "\n",
        "        if self.transform is not None:\n",
        "           img = self.transform(img)\n",
        "\n",
        "        return img, target"
      ]
    },
    {
      "cell_type": "code",
      "execution_count": null,
      "metadata": {
        "id": "74kV_DwkqizL"
      },
      "outputs": [],
      "source": [
        "# Read image data and their label into a Dataset class\n",
        "dataset = MyDataset('./Train.pkl', './TrainLabels.csv',transform=img_transform, idx=None)"
      ]
    },
    {
      "cell_type": "code",
      "execution_count": null,
      "metadata": {
        "id": "A37ZnzRqquIL"
      },
      "outputs": [],
      "source": [
        "batch_size = 256 #feel free to change it\n",
        "dataloader = DataLoader(dataset, batch_size=batch_size, shuffle=True)"
      ]
    },
    {
      "cell_type": "code",
      "execution_count": null,
      "metadata": {
        "id": "YBWbd2MXr3_d"
      },
      "outputs": [],
      "source": [
        "# Read a batch of data and their labels and display them\n",
        "# Note that since data are transformed, they are between [-1,1]\n",
        "imgs, labels = (next(iter(dataloader)))\n",
        "imgs = np.squeeze(imgs)\n",
        "plt.imshow(imgs[3].cpu().numpy(),cmap='gray', vmin=-1, vmax=1) #.transpose()"
      ]
    },
    {
      "cell_type": "code",
      "execution_count": null,
      "metadata": {
        "id": "JMGrCAb0gKx4"
      },
      "outputs": [],
      "source": [
        "for data in dataloader:\n",
        "    [img,label] = data\n",
        "    break"
      ]
    },
    {
      "cell_type": "code",
      "execution_count": null,
      "metadata": {
        "id": "kSwozeHUgS8k"
      },
      "outputs": [],
      "source": [
        "label"
      ]
    },
    {
      "cell_type": "code",
      "execution_count": null,
      "metadata": {
        "id": "kD33j-mhs5Ft"
      },
      "outputs": [],
      "source": [
        "# Here is a piece of code that reads data in batch.\n",
        "# In each epoch all samples are read in batches using dataloader\n",
        "\n",
        "num_epochs=2 # Feel free to change it\n",
        "for epoch in range(num_epochs):\n",
        "    for data in dataloader:\n",
        "        [img,label] = data\n"
      ]
    },
    {
      "cell_type": "code",
      "execution_count": null,
      "metadata": {
        "id": "jvk7DJz4C21O"
      },
      "outputs": [],
      "source": [
        "print(label.shape)"
      ]
    },
    {
      "cell_type": "markdown",
      "metadata": {
        "id": "rSmlFRB5s9Wz"
      },
      "source": [
        "## CNNs\n",
        "This part is heavily based on https://nextjournal.com/gkoehler/pytorch-mnist\n",
        "\n",
        "First, we load our dataset using methods discussed above"
      ]
    },
    {
      "cell_type": "code",
      "execution_count": null,
      "metadata": {
        "colab": {
          "base_uri": "https://localhost:8080/",
          "height": 551
        },
        "id": "-Qc1wCV-tG5r",
        "outputId": "e947047e-3958-4179-ed97-816f06ba055f"
      },
      "outputs": [
        {
          "data": {
            "image/png": "[encoded data removed]",
            "text/plain": [
              "<Figure size 432x288 with 6 Axes>"
            ]
          },
          "execution_count": 35,
          "metadata": {},
          "output_type": "execute_result"
        },
        {
          "data": {
            "image/png": "[encoded data removed]",
            "text/plain": [
              "<Figure size 432x288 with 6 Axes>"
            ]
          },
          "metadata": {},
          "output_type": "display_data"
        }
      ],
      "source": [
        "from torchvision.datasets import KMNIST\n",
        "import matplotlib.pyplot as plt\n",
        "\n",
        "image_transform = transforms.Compose([\n",
        "                      transforms.ToTensor(),\n",
        "                      transforms.Normalize((0.1307,), (0.3081,))\n",
        "                  ])\n",
        "\n",
        "train_loader = DataLoader( KMNIST('./data', train=True, download=True, transform=image_transform),batch_size=64, shuffle=True)\n",
        "test_loader = DataLoader( KMNIST('./data', train=False, transform=image_transform),batch_size=64, shuffle=True)\n",
        "\n",
        "\n",
        "examples = enumerate(test_loader)\n",
        "batch_idx, (example_data, example_targets) = next(examples)\n",
        "\n",
        "fig = plt.figure()\n",
        "for i in range(6):\n",
        "  plt.subplot(2,3,i+1)\n",
        "  plt.tight_layout()\n",
        "  plt.imshow(example_data[i][0], cmap='gray', interpolation='none')\n",
        "  plt.title(\"Ground Truth: {}\".format(example_targets[i]))\n",
        "  plt.xticks([])\n",
        "  plt.yticks([])\n",
        "fig"
      ]
    },
    {
      "cell_type": "code",
      "execution_count": null,
      "metadata": {
        "id": "pFVSRS6gs8t7"
      },
      "outputs": [],
      "source": [
        "import torch.nn as nn\n",
        "import torch.nn.functional as F\n",
        "import torch.optim as optim"
      ]
    },
    {
      "cell_type": "markdown",
      "metadata": {
        "id": "OlttwvYRtSwV"
      },
      "source": [
        "Now, we have to create our network. This part is important in many aspects"
      ]
    },
    {
      "cell_type": "code",
      "execution_count": null,
      "metadata": {
        "id": "ninyvAXRtU5z"
      },
      "outputs": [],
      "source": [
        "class Net(nn.Module):\n",
        "    # This part defines the layers\n",
        "    def __init__(self):\n",
        "        super(Net, self).__init__()\n",
        "        # At first there is only 1 channel (greyscale). The next channel size will be 10.\n",
        "        self.conv1 = nn.Conv2d(1, 10, kernel_size=5)\n",
        "        # Then, going from channel size (or feature size) 10 to 20.\n",
        "        self.conv2 = nn.Conv2d(10, 20, kernel_size=5)\n",
        "        # Now let us create some feed foreward layers in the end. Remember the sizes (from 320 to 50)\n",
        "        self.fc1 = nn.Linear(320, 50)\n",
        "        # The last layer should have an output with the same dimension as the number of classes\n",
        "        self.fc2 = nn.Linear(50, 10)\n",
        "\n",
        "    # And this part defines the way they are connected to each other\n",
        "    # (In reality, it is our foreward pass)\n",
        "    def forward(self, x):\n",
        "\n",
        "\n",
        "        # F.relu is ReLU activation. F.max_pool2d is a max pooling layer with n=2\n",
        "        # Max pooling simply selects the maximum value of each square of size n. Effectively dividing the image size by n\n",
        "        # At first, x is out input, so it is 1x28x28\n",
        "        # After the first convolution, it is 10x24x24 (24=28-5+1, 10 comes from feature size)\n",
        "        # After max pooling, it is 10x12x12\n",
        "        # ReLU doesn't change the size\n",
        "        x = F.relu(F.max_pool2d(self.conv1(x), 2))\n",
        "\n",
        "        # Again, after convolution layer, size is 20x8x8 (8=12-5+1, 20 comes from feature size)\n",
        "        # After max pooling it becomes 20x4x4\n",
        "        x = F.relu(F.max_pool2d(self.conv2(x), 2))\n",
        "\n",
        "        # This layer is an imaginary one. It simply states that we should see each member of x\n",
        "        # as a vector of 320 elements, instead of a tensor of 20x4x4 (Notice that 20*4*4=320)\n",
        "        x = x.view(-1, 320)\n",
        "\n",
        "        # Feedforeward layers. Remember that fc1 is a layer that goes from 320 to 50 neurons\n",
        "        x = F.relu(self.fc1(x))\n",
        "\n",
        "        # Output layer\n",
        "        x = self.fc2(x)\n",
        "\n",
        "        # We should put an appropriate activation for the output layer.\n",
        "        return F.log_softmax(x)"
      ]
    },
    {
      "cell_type": "markdown",
      "metadata": {
        "id": "BeVwuJHatdb7"
      },
      "source": [
        "Let's train these. But first, create the network, the optimizer and some lists for logging the training process"
      ]
    },
    {
      "cell_type": "code",
      "execution_count": null,
      "metadata": {
        "id": "EWuVNrsotfZD"
      },
      "outputs": [],
      "source": [
        "network = Net()\n",
        "optimizer = optim.SGD(network.parameters(), lr=0.01, momentum=0.5)\n",
        "\n",
        "train_losses = []\n",
        "train_counter = []\n",
        "test_losses = []\n",
        "test_counter = [i*len(train_loader.dataset) for i in range(3)]"
      ]
    },
    {
      "cell_type": "markdown",
      "metadata": {
        "id": "odNJbmzpthXs"
      },
      "source": [
        "The train and test functions. Should be familiar enough."
      ]
    },
    {
      "cell_type": "code",
      "execution_count": null,
      "metadata": {
        "id": "0Ps3KWsvtlSS"
      },
      "outputs": [],
      "source": [
        "def train(epoch):\n",
        "  network.train()\n",
        "  for batch_idx, (data, target) in enumerate(train_loader):\n",
        "    optimizer.zero_grad()\n",
        "    output = network(data)\n",
        "    loss = F.nll_loss(output, target) #negative log liklhood loss\n",
        "    loss.backward()\n",
        "    optimizer.step()\n",
        "    if batch_idx % 20 == 0:\n",
        "      print('Train Epoch: {} [{}/{} ({:.0f}%)]\\tLoss: {:.6f}'.format(\n",
        "        epoch, batch_idx * len(data), len(train_loader.dataset),\n",
        "        100. * batch_idx / len(train_loader), loss.item()))\n",
        "      train_losses.append(loss.item())\n",
        "      train_counter.append(\n",
        "        (batch_idx*64) + ((epoch-1)*len(train_loader.dataset)))\n",
        "      torch.save(network.state_dict(), '/model.pth')\n",
        "      torch.save(optimizer.state_dict(), '/optimizer.pth')\n",
        "\n",
        "def test():\n",
        "  network.eval()\n",
        "  test_loss = 0\n",
        "  correct = 0\n",
        "  with torch.no_grad():\n",
        "    for data, target in test_loader:\n",
        "      output = network(data)\n",
        "      test_loss += F.nll_loss(output, target, size_average=False).item()\n",
        "      pred = output.data.max(1, keepdim=True)[1]\n",
        "      correct += pred.eq(target.data.view_as(pred)).sum()\n",
        "  test_loss /= len(test_loader.dataset)\n",
        "  test_losses.append(test_loss)\n",
        "  print('\\nTest set: Avg. loss: {:.4f}, Accuracy: {}/{} ({:.0f}%)\\n'.format(\n",
        "    test_loss, correct, len(test_loader.dataset),\n",
        "    100. * correct / len(test_loader.dataset)))"
      ]
    },
    {
      "cell_type": "markdown",
      "metadata": {
        "id": "BaaA04yUtj1T"
      },
      "source": [
        "And let us train the network"
      ]
    },
    {
      "cell_type": "code",
      "execution_count": null,
      "metadata": {
        "colab": {
          "base_uri": "https://localhost:8080/"
        },
        "id": "CCgK_yOvtrjz",
        "outputId": "cdb1f76e-9f3d-42c1-e932-1736df1db1e4"
      },
      "outputs": [
        {
          "name": "stderr",
          "output_type": "stream",
          "text": [
            "/usr/local/lib/python3.7/dist-packages/ipykernel_launcher.py:42: UserWarning: Implicit dimension choice for log_softmax has been deprecated. Change the call to include dim=X as an argument.\n"
          ]
        },
        {
          "name": "stdout",
          "output_type": "stream",
          "text": [
            "Train Epoch: 1 [0/60000 (0%)]\tLoss: 2.321314\n",
            "Train Epoch: 1 [1280/60000 (2%)]\tLoss: 2.253849\n",
            "Train Epoch: 1 [2560/60000 (4%)]\tLoss: 2.226686\n",
            "Train Epoch: 1 [3840/60000 (6%)]\tLoss: 2.113317\n",
            "Train Epoch: 1 [5120/60000 (9%)]\tLoss: 1.934579\n",
            "Train Epoch: 1 [6400/60000 (11%)]\tLoss: 1.480032\n",
            "Train Epoch: 1 [7680/60000 (13%)]\tLoss: 1.572242\n",
            "Train Epoch: 1 [8960/60000 (15%)]\tLoss: 1.111626\n",
            "Train Epoch: 1 [10240/60000 (17%)]\tLoss: 0.991025\n",
            "Train Epoch: 1 [11520/60000 (19%)]\tLoss: 1.286306\n",
            "Train Epoch: 1 [12800/60000 (21%)]\tLoss: 0.766989\n",
            "Train Epoch: 1 [14080/60000 (23%)]\tLoss: 0.797821\n",
            "Train Epoch: 1 [15360/60000 (26%)]\tLoss: 0.628602\n",
            "Train Epoch: 1 [16640/60000 (28%)]\tLoss: 0.672954\n",
            "Train Epoch: 1 [17920/60000 (30%)]\tLoss: 0.761083\n",
            "Train Epoch: 1 [19200/60000 (32%)]\tLoss: 0.743901\n",
            "Train Epoch: 1 [20480/60000 (34%)]\tLoss: 0.557410\n",
            "Train Epoch: 1 [21760/60000 (36%)]\tLoss: 0.522305\n",
            "Train Epoch: 1 [23040/60000 (38%)]\tLoss: 0.605629\n",
            "Train Epoch: 1 [24320/60000 (41%)]\tLoss: 0.754523\n",
            "Train Epoch: 1 [25600/60000 (43%)]\tLoss: 0.583868\n",
            "Train Epoch: 1 [26880/60000 (45%)]\tLoss: 0.755834\n",
            "Train Epoch: 1 [28160/60000 (47%)]\tLoss: 0.585449\n",
            "Train Epoch: 1 [29440/60000 (49%)]\tLoss: 0.694594\n",
            "Train Epoch: 1 [30720/60000 (51%)]\tLoss: 0.677612\n",
            "Train Epoch: 1 [32000/60000 (53%)]\tLoss: 0.548062\n",
            "Train Epoch: 1 [33280/60000 (55%)]\tLoss: 0.500452\n",
            "Train Epoch: 1 [34560/60000 (58%)]\tLoss: 0.606066\n",
            "Train Epoch: 1 [35840/60000 (60%)]\tLoss: 0.344275\n",
            "Train Epoch: 1 [37120/60000 (62%)]\tLoss: 0.446857\n",
            "Train Epoch: 1 [38400/60000 (64%)]\tLoss: 0.497832\n",
            "Train Epoch: 1 [39680/60000 (66%)]\tLoss: 0.467468\n",
            "Train Epoch: 1 [40960/60000 (68%)]\tLoss: 0.358212\n",
            "Train Epoch: 1 [42240/60000 (70%)]\tLoss: 0.318050\n",
            "Train Epoch: 1 [43520/60000 (72%)]\tLoss: 0.550248\n",
            "Train Epoch: 1 [44800/60000 (75%)]\tLoss: 0.482022\n",
            "Train Epoch: 1 [46080/60000 (77%)]\tLoss: 0.253654\n",
            "Train Epoch: 1 [47360/60000 (79%)]\tLoss: 0.420734\n",
            "Train Epoch: 1 [48640/60000 (81%)]\tLoss: 0.364645\n",
            "Train Epoch: 1 [49920/60000 (83%)]\tLoss: 0.380434\n",
            "Train Epoch: 1 [51200/60000 (85%)]\tLoss: 0.514901\n",
            "Train Epoch: 1 [52480/60000 (87%)]\tLoss: 0.333852\n",
            "Train Epoch: 1 [53760/60000 (90%)]\tLoss: 0.372161\n",
            "Train Epoch: 1 [55040/60000 (92%)]\tLoss: 0.374017\n",
            "Train Epoch: 1 [56320/60000 (94%)]\tLoss: 0.414596\n",
            "Train Epoch: 1 [57600/60000 (96%)]\tLoss: 0.314190\n",
            "Train Epoch: 1 [58880/60000 (98%)]\tLoss: 0.529074\n"
          ]
        },
        {
          "name": "stderr",
          "output_type": "stream",
          "text": [
            "/usr/local/lib/python3.7/dist-packages/torch/nn/_reduction.py:42: UserWarning: size_average and reduce args will be deprecated, please use reduction='sum' instead.\n",
            "  warnings.warn(warning.format(ret))\n"
          ]
        },
        {
          "name": "stdout",
          "output_type": "stream",
          "text": [
            "\n",
            "Test set: Avg. loss: 0.6526, Accuracy: 7930/10000 (79%)\n",
            "\n",
            "Train Epoch: 2 [0/60000 (0%)]\tLoss: 0.304093\n",
            "Train Epoch: 2 [1280/60000 (2%)]\tLoss: 0.270174\n",
            "Train Epoch: 2 [2560/60000 (4%)]\tLoss: 0.495197\n",
            "Train Epoch: 2 [3840/60000 (6%)]\tLoss: 0.286902\n",
            "Train Epoch: 2 [5120/60000 (9%)]\tLoss: 0.244721\n",
            "Train Epoch: 2 [6400/60000 (11%)]\tLoss: 0.445780\n",
            "Train Epoch: 2 [7680/60000 (13%)]\tLoss: 0.355850\n",
            "Train Epoch: 2 [8960/60000 (15%)]\tLoss: 0.204792\n",
            "Train Epoch: 2 [10240/60000 (17%)]\tLoss: 0.398207\n",
            "Train Epoch: 2 [11520/60000 (19%)]\tLoss: 0.377910\n",
            "Train Epoch: 2 [12800/60000 (21%)]\tLoss: 0.221832\n",
            "Train Epoch: 2 [14080/60000 (23%)]\tLoss: 0.224926\n",
            "Train Epoch: 2 [15360/60000 (26%)]\tLoss: 0.229683\n",
            "Train Epoch: 2 [16640/60000 (28%)]\tLoss: 0.164499\n",
            "Train Epoch: 2 [17920/60000 (30%)]\tLoss: 0.147030\n",
            "Train Epoch: 2 [19200/60000 (32%)]\tLoss: 0.218383\n",
            "Train Epoch: 2 [20480/60000 (34%)]\tLoss: 0.350686\n",
            "Train Epoch: 2 [21760/60000 (36%)]\tLoss: 0.425952\n",
            "Train Epoch: 2 [23040/60000 (38%)]\tLoss: 0.358379\n",
            "Train Epoch: 2 [24320/60000 (41%)]\tLoss: 0.326930\n",
            "Train Epoch: 2 [25600/60000 (43%)]\tLoss: 0.258156\n",
            "Train Epoch: 2 [26880/60000 (45%)]\tLoss: 0.183106\n",
            "Train Epoch: 2 [28160/60000 (47%)]\tLoss: 0.219241\n",
            "Train Epoch: 2 [29440/60000 (49%)]\tLoss: 0.273709\n",
            "Train Epoch: 2 [30720/60000 (51%)]\tLoss: 0.263271\n",
            "Train Epoch: 2 [32000/60000 (53%)]\tLoss: 0.257721\n",
            "Train Epoch: 2 [33280/60000 (55%)]\tLoss: 0.187150\n",
            "Train Epoch: 2 [34560/60000 (58%)]\tLoss: 0.237760\n",
            "Train Epoch: 2 [35840/60000 (60%)]\tLoss: 0.138264\n",
            "Train Epoch: 2 [37120/60000 (62%)]\tLoss: 0.186189\n",
            "Train Epoch: 2 [38400/60000 (64%)]\tLoss: 0.093129\n",
            "Train Epoch: 2 [39680/60000 (66%)]\tLoss: 0.182060\n",
            "Train Epoch: 2 [40960/60000 (68%)]\tLoss: 0.270194\n",
            "Train Epoch: 2 [42240/60000 (70%)]\tLoss: 0.128089\n",
            "Train Epoch: 2 [43520/60000 (72%)]\tLoss: 0.465470\n",
            "Train Epoch: 2 [44800/60000 (75%)]\tLoss: 0.386973\n",
            "Train Epoch: 2 [46080/60000 (77%)]\tLoss: 0.252160\n",
            "Train Epoch: 2 [47360/60000 (79%)]\tLoss: 0.285341\n",
            "Train Epoch: 2 [48640/60000 (81%)]\tLoss: 0.177010\n",
            "Train Epoch: 2 [49920/60000 (83%)]\tLoss: 0.238633\n",
            "Train Epoch: 2 [51200/60000 (85%)]\tLoss: 0.206163\n",
            "Train Epoch: 2 [52480/60000 (87%)]\tLoss: 0.263947\n",
            "Train Epoch: 2 [53760/60000 (90%)]\tLoss: 0.302938\n",
            "Train Epoch: 2 [55040/60000 (92%)]\tLoss: 0.247848\n",
            "Train Epoch: 2 [56320/60000 (94%)]\tLoss: 0.175801\n",
            "Train Epoch: 2 [57600/60000 (96%)]\tLoss: 0.229497\n",
            "Train Epoch: 2 [58880/60000 (98%)]\tLoss: 0.260212\n",
            "\n",
            "Test set: Avg. loss: 0.4904, Accuracy: 8479/10000 (85%)\n",
            "\n",
            "Train Epoch: 3 [0/60000 (0%)]\tLoss: 0.219974\n",
            "Train Epoch: 3 [1280/60000 (2%)]\tLoss: 0.180963\n",
            "Train Epoch: 3 [2560/60000 (4%)]\tLoss: 0.286236\n",
            "Train Epoch: 3 [3840/60000 (6%)]\tLoss: 0.228072\n",
            "Train Epoch: 3 [5120/60000 (9%)]\tLoss: 0.257670\n",
            "Train Epoch: 3 [6400/60000 (11%)]\tLoss: 0.211401\n",
            "Train Epoch: 3 [7680/60000 (13%)]\tLoss: 0.138101\n",
            "Train Epoch: 3 [8960/60000 (15%)]\tLoss: 0.187980\n",
            "Train Epoch: 3 [10240/60000 (17%)]\tLoss: 0.309056\n",
            "Train Epoch: 3 [11520/60000 (19%)]\tLoss: 0.146843\n",
            "Train Epoch: 3 [12800/60000 (21%)]\tLoss: 0.182195\n",
            "Train Epoch: 3 [14080/60000 (23%)]\tLoss: 0.367002\n",
            "Train Epoch: 3 [15360/60000 (26%)]\tLoss: 0.081684\n",
            "Train Epoch: 3 [16640/60000 (28%)]\tLoss: 0.118070\n",
            "Train Epoch: 3 [17920/60000 (30%)]\tLoss: 0.129447\n",
            "Train Epoch: 3 [19200/60000 (32%)]\tLoss: 0.269214\n",
            "Train Epoch: 3 [20480/60000 (34%)]\tLoss: 0.153522\n",
            "Train Epoch: 3 [21760/60000 (36%)]\tLoss: 0.183684\n",
            "Train Epoch: 3 [23040/60000 (38%)]\tLoss: 0.155719\n",
            "Train Epoch: 3 [24320/60000 (41%)]\tLoss: 0.193800\n",
            "Train Epoch: 3 [25600/60000 (43%)]\tLoss: 0.099819\n",
            "Train Epoch: 3 [26880/60000 (45%)]\tLoss: 0.204207\n",
            "Train Epoch: 3 [28160/60000 (47%)]\tLoss: 0.128571\n",
            "Train Epoch: 3 [29440/60000 (49%)]\tLoss: 0.248335\n",
            "Train Epoch: 3 [30720/60000 (51%)]\tLoss: 0.141043\n",
            "Train Epoch: 3 [32000/60000 (53%)]\tLoss: 0.096235\n",
            "Train Epoch: 3 [33280/60000 (55%)]\tLoss: 0.247232\n",
            "Train Epoch: 3 [34560/60000 (58%)]\tLoss: 0.094606\n",
            "Train Epoch: 3 [35840/60000 (60%)]\tLoss: 0.209147\n",
            "Train Epoch: 3 [37120/60000 (62%)]\tLoss: 0.045309\n",
            "Train Epoch: 3 [38400/60000 (64%)]\tLoss: 0.299145\n",
            "Train Epoch: 3 [39680/60000 (66%)]\tLoss: 0.219876\n",
            "Train Epoch: 3 [40960/60000 (68%)]\tLoss: 0.196293\n",
            "Train Epoch: 3 [42240/60000 (70%)]\tLoss: 0.085144\n",
            "Train Epoch: 3 [43520/60000 (72%)]\tLoss: 0.209065\n",
            "Train Epoch: 3 [44800/60000 (75%)]\tLoss: 0.062906\n",
            "Train Epoch: 3 [46080/60000 (77%)]\tLoss: 0.101247\n",
            "Train Epoch: 3 [47360/60000 (79%)]\tLoss: 0.114521\n",
            "Train Epoch: 3 [48640/60000 (81%)]\tLoss: 0.193336\n",
            "Train Epoch: 3 [49920/60000 (83%)]\tLoss: 0.130942\n",
            "Train Epoch: 3 [51200/60000 (85%)]\tLoss: 0.313433\n",
            "Train Epoch: 3 [52480/60000 (87%)]\tLoss: 0.056798\n",
            "Train Epoch: 3 [53760/60000 (90%)]\tLoss: 0.097803\n",
            "Train Epoch: 3 [55040/60000 (92%)]\tLoss: 0.255242\n",
            "Train Epoch: 3 [56320/60000 (94%)]\tLoss: 0.041568\n",
            "Train Epoch: 3 [57600/60000 (96%)]\tLoss: 0.053624\n",
            "Train Epoch: 3 [58880/60000 (98%)]\tLoss: 0.123276\n",
            "\n",
            "Test set: Avg. loss: 0.3970, Accuracy: 8771/10000 (88%)\n",
            "\n"
          ]
        }
      ],
      "source": [
        "for epoch in range(1, 4):\n",
        "  train(epoch)\n",
        "  test()"
      ]
    },
    {
      "cell_type": "markdown",
      "metadata": {
        "id": "93kxlGOott9D"
      },
      "source": [
        "And see the loss curve during time"
      ]
    },
    {
      "cell_type": "code",
      "execution_count": null,
      "metadata": {
        "colab": {
          "base_uri": "https://localhost:8080/",
          "height": 541
        },
        "id": "EWsLpqBVtwUe",
        "outputId": "0cdb89b1-a61f-458f-e4af-874b19b3d3a3"
      },
      "outputs": [
        {
          "data": {
            "image/png": "[encoded data removed]",
            "text/plain": [
              "<Figure size 432x288 with 1 Axes>"
            ]
          },
          "execution_count": 40,
          "metadata": {
            "tags": []
          },
          "output_type": "execute_result"
        },
        {
          "data": {
            "image/png": "[encoded data removed]",
            "text/plain": [
              "<Figure size 432x288 with 1 Axes>"
            ]
          },
          "metadata": {
            "needs_background": "light",
            "tags": []
          },
          "output_type": "display_data"
        }
      ],
      "source": [
        "fig = plt.figure()\n",
        "plt.plot(train_counter, train_losses, color='blue')\n",
        "plt.legend(['Train Loss'], loc='upper right')\n",
        "plt.xlabel('number of training examples seen')\n",
        "plt.ylabel('negative log likelihood loss')\n",
        "fig"
      ]
    }
  ],
  "metadata": {
    "accelerator": "GPU",
    "colab": {
      "provenance": []
    },
    "gpuClass": "standard",
    "kernelspec": {
      "display_name": "Python 3",
      "name": "python3"
    },
    "language_info": {
      "codemirror_mode": {
        "name": "ipython",
        "version": 3
      },
      "file_extension": ".py",
      "mimetype": "text/x-python",
      "name": "python",
      "nbconvert_exporter": "python",
      "pygments_lexer": "ipython3",
      "version": "3.11.5"
    }
  },
  "nbformat": 4,
  "nbformat_minor": 0
}
