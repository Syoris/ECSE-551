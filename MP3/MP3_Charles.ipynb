{
 "cells": [
  {
   "cell_type": "markdown",
   "metadata": {},
   "source": [
    "# ECSE-551 Mini Project 3\n",
    "Authors:\n",
    "* Ashley Meagher (260822930)\n",
    "* Charles Sirois (261158513)  \n",
    "* Emma ()"
   ]
  },
  {
   "cell_type": "code",
   "execution_count": 92,
   "metadata": {},
   "outputs": [
    {
     "name": "stdout",
     "output_type": "stream",
     "text": [
      "The autoreload extension is already loaded. To reload it, use:\n",
      "  %reload_ext autoreload\n"
     ]
    }
   ],
   "source": [
    "# To specify where to load the data\n",
    "in_colab = False\n",
    "\n",
    "%load_ext autoreload\n",
    "%autoreload 2\n",
    "\n",
    "# imports\n",
    "import pandas as pd\n",
    "import numpy as np\n",
    "import matplotlib.pyplot as pltà\n",
    "\n",
    "import pickle\n",
    "import matplotlib.pyplot as plt\n",
    "from torchvision import transforms\n",
    "from torch.utils.data import Dataset\n",
    "from torch.utils.data import DataLoader\n",
    "from PIL import Image\n",
    "import torch\n",
    "\n",
    "# Ignore warnings\n",
    "import warnings\n",
    "warnings.filterwarnings(\"ignore\")\n",
    "\n",
    "# Colab setup\n",
    "if in_colab:\n",
    "    folder_path = 'drive/MyDrive/Colab Notebooks/ECSE 551_MP3'\n",
    "\n",
    "    from google.colab import drive\n",
    "    from google.colab import data_table\n",
    "\n",
    "    data_table.enable_dataframe_formatter()  # For interactive df viz\n",
    "\n",
    "    drive.mount('/content/drive')\n",
    "\n",
    "    #   # Import LogisticRegression\n",
    "    #   import sys\n",
    "    #   sys.path.insert(0, folder_path)\n",
    "    #   from LogisticRegression import LogisticRegression\n",
    "\n",
    "else:\n",
    "    folder_path = 'MP3'\n",
    "\n",
    "    # Our imports\n",
    "    # from LogisticRegression import LogisticRegression, cost_function\n",
    "    ..."
   ]
  },
  {
   "cell_type": "markdown",
   "metadata": {},
   "source": [
    "## Dataset"
   ]
  },
  {
   "cell_type": "code",
   "execution_count": 101,
   "metadata": {},
   "outputs": [
    {
     "name": "stdout",
     "output_type": "stream",
     "text": [
      "Information about the dataset:\n",
      "\tNumber of samples: 60000\n",
      "\tFeature space: 28*28\n",
      "\tDifferent classes: [0. 1. 2. 3. 4. 5. 6. 7. 8. 9.]. Their proportion: [0.1 0.1 0.1 0.1 0.1 0.1 0.1 0.1 0.1 0.1]\n",
      "\n",
      "Information about the dataset:\n",
      "\tNumber of samples: 10000\n",
      "\tFeature space: 28*28\n",
      "\n"
     ]
    }
   ],
   "source": [
    "class MyDataset(Dataset):\n",
    "    \"\"\"To load the pickled data file. Class from tutorial 6 of ECSE-551\n",
    "\n",
    "    img_file: the pickle file containing the images\n",
    "    label_file: the .csv file containing the labels\n",
    "    transform: We use it for normalizing images (see above)\n",
    "    idx: This is a binary vector that is useful for creating training and validation set.\n",
    "    \n",
    "    It return only samples where idx is True.\n",
    "\n",
    "    Attributes\n",
    "    ----------\n",
    "    data\n",
    "    targets\n",
    "    transform\n",
    "    \n",
    "    \"\"\"\n",
    "    def __init__(self, img_file_name, label_file_name=None, transform=None, idx = None, folder_path=None):\n",
    "        img_file_name = f\"{folder_path}/{img_file_name}\"\n",
    "        \n",
    "        with open(img_file_name, 'rb') as img_file:\n",
    "            self.data = pickle.load(img_file, encoding='bytes')\n",
    "\n",
    "        if label_file_name is not None:\n",
    "            label_file = f\"{folder_path}/{label_file_name}\"\n",
    "\n",
    "            # labels_df = pd.read_excel(label_file)\n",
    "            # self.targets = labels_df['class'].to_numpy()\n",
    "            \n",
    "            self.targets = np.genfromtxt(label_file, delimiter=',', skip_header=1)[:, 1:]\n",
    "            \n",
    "        else:\n",
    "            self.targets = None\n",
    "\n",
    "        if idx is not None:\n",
    "          self.targets = self.targets[idx]\n",
    "          self.data = self.data[idx]\n",
    "          \n",
    "        self.transform = transform\n",
    "\n",
    "    def print_infos(self, img_idx=None):\n",
    "        \"\"\"To print information about the dataset.\n",
    "\n",
    "        Shows image at img_idx or a random one if None.\n",
    "\n",
    "        Args:\n",
    "            img_idx (int, optional): Image to show. Defaults to None.\n",
    "        \"\"\"\n",
    "        \n",
    "\n",
    "        # General information\n",
    "        print(f\"Information about the dataset:\")\n",
    "        print(f\"\\tNumber of samples: {self.data.shape[0]}\")\n",
    "        print(f\"\\tFeature space: {self.data.shape[-2]}*{self.data.shape[-1]}\")\n",
    "\n",
    "        if self.targets is not None:\n",
    "            classes, classes_count = np.unique(self.targets, return_counts=True)\n",
    "            print(f\"\\tDifferent classes: {classes}. Their proportion: {classes_count/classes_count.sum()}\")\n",
    "\n",
    "        if img_idx is not None:\n",
    "            print(f'Image {img_idx}')\n",
    "            plt.imshow(self.data[img_idx, 0], cmap='gray', vmin=0, vmax=1)\n",
    "\n",
    "        print()\n",
    "\n",
    "    def __len__(self):\n",
    "        if self.targets is not None:\n",
    "            l = len(self.targets) \n",
    "        else:\n",
    "            l = self.data.shape[0]\n",
    "        return l\n",
    "\n",
    "    def __getitem__(self, index):\n",
    "        img = self.data[index][0]\n",
    "        target = int(self.targets[index])\n",
    "\n",
    "        if self.transform is not None:\n",
    "            # img = Image.fromarray(img.astype('float'), mode='L')\n",
    "            img_trans = self.transform(img)\n",
    "\n",
    "        # If not transform specified, transform to torch tensor\n",
    "        else:\n",
    "            img_trans = transforms.ToTensor()(img)\n",
    "\n",
    "\n",
    "        return img_trans, target\n",
    "    \n",
    "\n",
    "def show_image(img, vmin=0, vmax=1, ax=None):\n",
    "    \"\"\"To show the image\n",
    "\n",
    "    Args:\n",
    "        img (Image): Image to show\n",
    "        vmin (int, optional): Min value of the scale. Defaults to 0.\n",
    "        vmax (int, optional): Max value of the scale. Defaults to 1.\n",
    "    \"\"\"\n",
    "    # plt.imshow(img.cpu().numpy(), cmap='gray', vmin=vmin, vmax=vmax)\n",
    "    \n",
    "    if ax is not None:\n",
    "        ax.imshow(img[0], cmap='gray', vmin=vmin, vmax=vmax)\n",
    "        \n",
    "    else:\n",
    "        plt.imshow(img[0], cmap='gray', vmin=vmin, vmax=vmax)\n",
    "\n",
    "\n",
    "# Load the dataset\n",
    "img_transform = transforms.Compose([\n",
    "    transforms.ToTensor(),\n",
    "    transforms.Normalize([0.5], [0.5])\n",
    "])\n",
    "# img_transform = None\n",
    "\n",
    "data_folder = f\"data\"\n",
    "\n",
    "train_file = 'Train.pkl'\n",
    "train_label_file = 'Train_labels.csv'\n",
    "test_file = 'Test.pkl'\n",
    "\n",
    "# Datasets\n",
    "no_transform_ds = MyDataset(train_file, label_file_name=train_label_file, transform=None, folder_path=data_folder)\n",
    "train_ds = MyDataset(train_file, label_file_name=train_label_file, transform=img_transform, folder_path=data_folder)\n",
    "test_ds = MyDataset(test_file, transform=img_transform, folder_path=data_folder)\n",
    "\n",
    "train_ds.print_infos()\n",
    "test_ds.print_infos()"
   ]
  },
  {
   "cell_type": "code",
   "execution_count": 94,
   "metadata": {},
   "outputs": [
    {
     "data": {
      "image/png": "[encoded data removed]",
      "text/plain": [
       "<Figure size 640x480 with 8 Axes>"
      ]
     },
     "metadata": {},
     "output_type": "display_data"
    }
   ],
   "source": [
    "# Look a the first k images. Compare with and w/o transform\n",
    "k = 4\n",
    "fig, axes = plt.subplots(2, 4)\n",
    "row_titles = ['No Transform', 'Transf']\n",
    "\n",
    "for i, ax in enumerate(axes.flat):\n",
    "    row = i // 4  # Calculate the row index\n",
    "    col = i % 4  # Calculate the column index\n",
    "    if row == 0:\n",
    "        img, _ = no_transform_ds[col]\n",
    "        vmin, vmax = 0, 1\n",
    "    else:\n",
    "        img, _ = train_ds[col]\n",
    "        vmin, vmax = -1, 1\n",
    "\n",
    "    show_image(img, ax=ax, vmin=vmin, vmax=vmax)\n",
    "\n",
    "    if col == 0:\n",
    "        ax.set_title(row_titles[row])  # Set row-wise title for the first image in each row\n",
    "    ax.set_xlabel(f'Image {col}')  # Set individual title for each image\n",
    "\n",
    "plt.tight_layout()\n",
    "plt.show()"
   ]
  },
  {
   "cell_type": "code",
   "execution_count": 96,
   "metadata": {},
   "outputs": [
    {
     "data": {
      "image/png": "[encoded data removed]",
      "text/plain": [
       "<Figure size 640x480 with 10 Axes>"
      ]
     },
     "metadata": {},
     "output_type": "display_data"
    }
   ],
   "source": [
    "# Find the different labels\n",
    "labels, labels_idx = np.unique(train_ds.targets, return_index=True)\n",
    "\n",
    "fig = plt.figure()\n",
    "plt.tight_layout()\n",
    "for (i, label), idx in zip(enumerate(labels), labels_idx):\n",
    "    # print(f'{i} {label} {idx}')\n",
    "    img, target = train_ds[idx]\n",
    "\n",
    "    ax = plt.subplot(2, 5, i + 1)\n",
    "    ax.set_title(f'{target}')\n",
    "    ax.axis('off')\n",
    "    show_image(img)\n",
    "\n",
    "plt.show()"
   ]
  },
  {
   "cell_type": "code",
   "execution_count": 107,
   "metadata": {},
   "outputs": [],
   "source": [
    "# Dataloader\n",
    "batch_size = 256 #feel free to change it\n",
    "train_dl = DataLoader(train_ds, batch_size=batch_size, shuffle=True)\n",
    "test_dl = DataLoader(test_ds, batch_size=batch_size, shuffle=True)\n",
    "\n",
    "# Example, to go through all samples\n",
    "num_epochs=2 # Feel free to change it\n",
    "for epoch in range(num_epochs):\n",
    "    for train_data in train_dl: # train_data: One batch\n",
    "        [img,label] = train_data  # img: Size batch_size x 1 x 28 x28, label: batch_size\n",
    "\n",
    "# With my laptop: Takes 12 seconds to run 2 epoch w/ batch size of 256"
   ]
  },
  {
   "cell_type": "markdown",
   "metadata": {},
   "source": [
    "## NN"
   ]
  }
 ],
 "metadata": {
  "kernelspec": {
   "display_name": "ecse-551",
   "language": "python",
   "name": "python3"
  },
  "language_info": {
   "codemirror_mode": {
    "name": "ipython",
    "version": 3
   },
   "file_extension": ".py",
   "mimetype": "text/x-python",
   "name": "python",
   "nbconvert_exporter": "python",
   "pygments_lexer": "ipython3",
   "version": "3.11.5"
  }
 },
 "nbformat": 4,
 "nbformat_minor": 2
}
