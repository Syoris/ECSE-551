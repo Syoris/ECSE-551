{
 "cells": [
  {
   "cell_type": "markdown",
   "metadata": {},
   "source": [
    "# ECSE-551 Mini Project 3\n",
    "Authors:\n",
    "* Ashley Meagher (260822930)\n",
    "* Charles Sirois (261158513)  \n",
    "* Emma ()"
   ]
  },
  {
   "cell_type": "code",
   "execution_count": null,
   "metadata": {},
   "outputs": [],
   "source": [
    "# To specify where to load the data\n",
    "in_colab = False\n",
    "folder_path = 'drive/MyDrive/Colab Notebooks/ECSE 551_MP3'\n",
    "\n",
    "%load_ext autoreload\n",
    "%autoreload 2\n",
    "\n",
    "# imports\n",
    "import pandas as pd\n",
    "import numpy as np\n",
    "import matplotlib.pyplot as pltà\n",
    "\n",
    "import pickle\n",
    "import matplotlib.pyplot as plt\n",
    "from torchvision import transforms\n",
    "from torch.utils.data import Dataset\n",
    "from torch.utils.data import DataLoader\n",
    "from PIL import Image\n",
    "import torch\n",
    "\n",
    "# Colab setup\n",
    "if in_colab:\n",
    "    from google.colab import drive\n",
    "    from google.colab import data_table\n",
    "\n",
    "    data_table.enable_dataframe_formatter()  # For interactive df viz\n",
    "\n",
    "    drive.mount('/content/drive')\n",
    "\n",
    "    #   # Import LogisticRegression\n",
    "    #   import sys\n",
    "    #   sys.path.insert(0, folder_path)\n",
    "    #   from LogisticRegression import LogisticRegression\n",
    "\n",
    "else:\n",
    "    # Our imports\n",
    "    # from LogisticRegression import LogisticRegression, cost_function\n",
    "    ..."
   ]
  }
 ],
 "metadata": {
  "kernelspec": {
   "display_name": "ecse-551",
   "language": "python",
   "name": "python3"
  },
  "language_info": {
   "name": "python",
   "version": "3.11.5"
  }
 },
 "nbformat": 4,
 "nbformat_minor": 2
}
