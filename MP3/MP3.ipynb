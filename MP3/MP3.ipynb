{
 "cells": [
  {
   "cell_type": "markdown",
   "metadata": {},
   "source": [
    "# ECSE-551 Mini Project 3\n",
    "Authors:\n",
    "* Ashley Meagher (260822930)\n",
    "* Charles Sirois (261158513)  \n",
    "* Emma ()"
   ]
  },
  {
   "cell_type": "code",
   "execution_count": null,
   "metadata": {},
   "outputs": [],
   "source": [
    "# To specify where to load the data\n",
    "in_colab = False\n",
    "\n",
    "%load_ext autoreload\n",
    "%autoreload 2"
   ]
  }
 ],
 "metadata": {
  "language_info": {
   "name": "python"
  }
 },
 "nbformat": 4,
 "nbformat_minor": 2
}
